{
 "nbformat": 4,
 "nbformat_minor": 0,
 "metadata": {
  "colab": {
   "provenance": [],
   "collapsed_sections": [
    "i38qZPSHmDVs",
    "ekYrPhAGkAfM",
    "3zlRobQekELk",
    "id0Re9bnkWRP",
    "1rJLFmZYk0I1",
    "8FvleqV5onq9"
   ]
  },
  "kernelspec": {
   "name": "python3",
   "display_name": "Python 3 (ipykernel)",
   "language": "python"
  },
  "language_info": {
   "name": "python"
  }
 },
 "cells": [
  {
   "cell_type": "markdown",
   "source": [
    "\n",
    "\n",
    "> Import libraries to use\n",
    "\n"
   ],
   "metadata": {
    "id": "JIuzZH7gj7Yu"
   }
  },
  {
   "cell_type": "code",
   "source": [
    "import numpy as np"
   ],
   "metadata": {
    "id": "1n-L9pacjmBA",
    "ExecuteTime": {
     "end_time": "2024-11-04T15:08:18.117254Z",
     "start_time": "2024-11-04T15:08:18.106925Z"
    }
   },
   "outputs": [],
   "execution_count": 33
  },
  {
   "cell_type": "markdown",
   "source": [
    ">  # Introduction to numpy (Skip if you already are familiar)"
   ],
   "metadata": {
    "id": "i38qZPSHmDVs"
   }
  },
  {
   "cell_type": "markdown",
   "source": [
    ">> Creating a 1D array"
   ],
   "metadata": {
    "id": "-wFkLk1kmeIn"
   }
  },
  {
   "cell_type": "code",
   "source": [
    "a = np.array([1,2,3,4])\n",
    "print(a)"
   ],
   "metadata": {
    "colab": {
     "base_uri": "https://localhost:8080/"
    },
    "id": "E-o1XD0Qmgxk",
    "outputId": "d5e1bb74-42be-449c-e57a-8e389c3368ef",
    "ExecuteTime": {
     "end_time": "2024-11-04T15:08:18.171767Z",
     "start_time": "2024-11-04T15:08:18.149741Z"
    }
   },
   "outputs": [
    {
     "name": "stdout",
     "output_type": "stream",
     "text": [
      "[1 2 3 4]\n"
     ]
    }
   ],
   "execution_count": 34
  },
  {
   "cell_type": "markdown",
   "source": [
    ">> Creating a 2D array\n"
   ],
   "metadata": {
    "id": "DWh4Q90Gmh32"
   }
  },
  {
   "cell_type": "code",
   "source": [
    "a = np.array([[1,2],[3,4]])\n",
    "print(a)"
   ],
   "metadata": {
    "colab": {
     "base_uri": "https://localhost:8080/"
    },
    "id": "mOS0jF1AmjTX",
    "outputId": "98649d5d-6738-499b-e907-bbcf7fe7a48f",
    "ExecuteTime": {
     "end_time": "2024-11-04T15:08:18.273311Z",
     "start_time": "2024-11-04T15:08:18.260342Z"
    }
   },
   "outputs": [
    {
     "name": "stdout",
     "output_type": "stream",
     "text": [
      "[[1 2]\n",
      " [3 4]]\n"
     ]
    }
   ],
   "execution_count": 35
  },
  {
   "cell_type": "markdown",
   "source": [
    ">> Creating an array full of zeros\n"
   ],
   "metadata": {
    "id": "4Z_7BfvcmoPA"
   }
  },
  {
   "cell_type": "code",
   "source": [
    "a = np.zeros(shape=(10))\n",
    "print(a)\n",
    "a = np.zeros(shape=(5,2))\n",
    "print(a)"
   ],
   "metadata": {
    "colab": {
     "base_uri": "https://localhost:8080/"
    },
    "id": "KdGvmJ7gmFrF",
    "outputId": "96c1389b-8ff8-492b-9575-df4a3c38c711",
    "ExecuteTime": {
     "end_time": "2024-11-04T15:08:18.339748Z",
     "start_time": "2024-11-04T15:08:18.321266Z"
    }
   },
   "outputs": [
    {
     "name": "stdout",
     "output_type": "stream",
     "text": [
      "[0. 0. 0. 0. 0. 0. 0. 0. 0. 0.]\n",
      "[[0. 0.]\n",
      " [0. 0.]\n",
      " [0. 0.]\n",
      " [0. 0.]\n",
      " [0. 0.]]\n"
     ]
    }
   ],
   "execution_count": 36
  },
  {
   "cell_type": "markdown",
   "source": [
    ">> Infinity in numpy"
   ],
   "metadata": {
    "id": "kV2byWmWmr9g"
   }
  },
  {
   "cell_type": "code",
   "source": [
    "print(np.inf)"
   ],
   "metadata": {
    "colab": {
     "base_uri": "https://localhost:8080/"
    },
    "id": "9SMPoECVmygc",
    "outputId": "5ceafdaf-3f4d-4c98-e084-5b0409b5f127",
    "ExecuteTime": {
     "end_time": "2024-11-04T15:08:18.423905Z",
     "start_time": "2024-11-04T15:08:18.409028Z"
    }
   },
   "outputs": [
    {
     "name": "stdout",
     "output_type": "stream",
     "text": [
      "inf\n"
     ]
    }
   ],
   "execution_count": 37
  },
  {
   "cell_type": "markdown",
   "source": [
    ">> Max and Argmax"
   ],
   "metadata": {
    "id": "FCi8vs49mz44"
   }
  },
  {
   "cell_type": "code",
   "source": [
    "a = np.array([2,1,4,3])\n",
    "print(np.max(a))\n",
    "print(np.argmax(a))"
   ],
   "metadata": {
    "colab": {
     "base_uri": "https://localhost:8080/"
    },
    "id": "Ailb-V76nSqc",
    "outputId": "69c91264-9121-434c-8a96-a258748ad558",
    "ExecuteTime": {
     "end_time": "2024-11-04T15:08:18.551672Z",
     "start_time": "2024-11-04T15:08:18.533737Z"
    }
   },
   "outputs": [
    {
     "name": "stdout",
     "output_type": "stream",
     "text": [
      "4\n",
      "2\n"
     ]
    }
   ],
   "execution_count": 38
  },
  {
   "cell_type": "markdown",
   "source": [
    ">> From list to Numpy"
   ],
   "metadata": {
    "id": "6XpkQzTfnXMU"
   }
  },
  {
   "cell_type": "code",
   "source": [
    "l = [1,2,3,4]\n",
    "print(l)\n",
    "print(np.asarray(l))"
   ],
   "metadata": {
    "colab": {
     "base_uri": "https://localhost:8080/"
    },
    "id": "3wdFdBaOncQI",
    "outputId": "0a5aa25a-5bee-4443-adaf-87bbcf0c1216",
    "ExecuteTime": {
     "end_time": "2024-11-04T15:08:18.796990Z",
     "start_time": "2024-11-04T15:08:18.784050Z"
    }
   },
   "outputs": [
    {
     "name": "stdout",
     "output_type": "stream",
     "text": [
      "[1, 2, 3, 4]\n",
      "[1 2 3 4]\n"
     ]
    }
   ],
   "execution_count": 39
  },
  {
   "cell_type": "markdown",
   "source": [
    ">> Random in numpy"
   ],
   "metadata": {
    "id": "PgNawY2LngKt"
   }
  },
  {
   "cell_type": "code",
   "source": [
    "# Array of Random integers ranging from 1 to 10 (with any size you want)\n",
    "a = np.random.randint(low=1, high=10, size=(5,2))\n",
    "print(a)\n",
    "\n",
    "# Array of random elements of a list with any size you want\n",
    "a = np.random.choice([0,1,2], size=(2,))"
   ],
   "metadata": {
    "colab": {
     "base_uri": "https://localhost:8080/"
    },
    "id": "tyopXlWsnjK1",
    "outputId": "80981877-04e6-4f31-ff13-933c7a2103a5",
    "ExecuteTime": {
     "end_time": "2024-11-04T15:08:18.885657Z",
     "start_time": "2024-11-04T15:08:18.867722Z"
    }
   },
   "outputs": [
    {
     "name": "stdout",
     "output_type": "stream",
     "text": [
      "[[4 6]\n",
      " [9 7]\n",
      " [1 7]\n",
      " [6 2]\n",
      " [8 1]]\n"
     ]
    }
   ],
   "execution_count": 40
  },
  {
   "cell_type": "markdown",
   "source": [
    ">> Shapes in numpy"
   ],
   "metadata": {
    "id": "abjqoNDSoAD6"
   }
  },
  {
   "cell_type": "code",
   "source": [
    "a = np.random.randint(low=1, high=5, size=(4,2))\n",
    "print(a.shape)\n",
    "print(a)\n",
    "\n",
    "# Reshape a to a vector of shape = (8,1)\n",
    "a = a.reshape((8,1))\n",
    "print(a.shape)\n",
    "print(a)"
   ],
   "metadata": {
    "colab": {
     "base_uri": "https://localhost:8080/"
    },
    "id": "vN2gUoZEoCbE",
    "outputId": "bb7cb91f-7983-4bc9-d9a2-60f27017986a",
    "ExecuteTime": {
     "end_time": "2024-11-04T15:08:18.985641Z",
     "start_time": "2024-11-04T15:08:18.973634Z"
    }
   },
   "outputs": [
    {
     "name": "stdout",
     "output_type": "stream",
     "text": [
      "(4, 2)\n",
      "[[1 3]\n",
      " [3 3]\n",
      " [4 1]\n",
      " [1 4]]\n",
      "(8, 1)\n",
      "[[1]\n",
      " [3]\n",
      " [3]\n",
      " [3]\n",
      " [4]\n",
      " [1]\n",
      " [1]\n",
      " [4]]\n"
     ]
    }
   ],
   "execution_count": 41
  },
  {
   "cell_type": "markdown",
   "source": [
    "# Pre-defined utilities"
   ],
   "metadata": {
    "id": "ekYrPhAGkAfM"
   }
  },
  {
   "cell_type": "code",
   "source": [
    "\n",
    "int_to_char = {\n",
    "    0 : 'u',\n",
    "    1 : 'r',\n",
    "    2 : 'd',\n",
    "    3 : 'l'\n",
    "}\n",
    "\n",
    "policy_one_step_look_ahead = {\n",
    "    0 : [-1,0],\n",
    "    1 : [0,1],\n",
    "    2 : [1,0],\n",
    "    3 : [0,-1]\n",
    "}\n",
    "\n",
    "def policy_int_to_char(pi,n):\n",
    "\n",
    "    pi_char = ['']\n",
    "\n",
    "    for i in range(n):\n",
    "        for j in range(n):\n",
    "\n",
    "            if i == 0 and j == 0 or i == n-1 and j == n-1:\n",
    "\n",
    "                continue\n",
    "\n",
    "            pi_char.append(int_to_char[pi[i,j]])\n",
    "\n",
    "    pi_char.append('')\n",
    "\n",
    "    return np.asarray(pi_char).reshape(n,n)"
   ],
   "metadata": {
    "id": "3kXEezQ_jnoP",
    "ExecuteTime": {
     "end_time": "2024-11-04T15:08:19.064489Z",
     "start_time": "2024-11-04T15:08:19.047832Z"
    }
   },
   "outputs": [],
   "execution_count": 42
  },
  {
   "cell_type": "markdown",
   "source": [
    "# 1- Policy evaluation"
   ],
   "metadata": {
    "id": "3zlRobQekELk"
   }
  },
  {
   "cell_type": "code",
   "source": [
    "def policy_evaluation(n, pi, v, Gamma, threshhold):\n",
    "    \"\"\"\n",
    "    This function should return the value function that follows the policy pi.\n",
    "    Use the stopping criteria given in the problem statement.\n",
    "    \n",
    "    Parameters:\n",
    "    n: The size of the grid or state space.\n",
    "    pi: The policy to be evaluated.\n",
    "    v: The current value function.\n",
    "    Gamma: The discount factor.\n",
    "    threshold: The threshold for the stopping criteria.\n",
    "    \"\"\"\n",
    "    max_iterations = 1000\n",
    "    iteration = 0\n",
    "    while True:\n",
    "        v_old = v.copy()\n",
    "        for i in range(n):\n",
    "            for j in range(n):\n",
    "                action = pi[i, j]\n",
    "                next_state = (i + policy_one_step_look_ahead[action][0], j + policy_one_step_look_ahead[action][1])\n",
    "                if 0 <= next_state[0] < n and 0 <= next_state[1] < n:\n",
    "                    v[i, j] = -1 + Gamma * v_old[next_state[0], next_state[1]]\n",
    "                else:\n",
    "                    v[i, j] = -1\n",
    "        max_diff = np.max(np.abs(v - v_old))\n",
    "        iteration += 1\n",
    "        if max_diff <= threshhold or iteration >= max_iterations:\n",
    "            break\n",
    "    return v"
   ],
   "metadata": {
    "id": "N7_2lpTAkHAJ",
    "ExecuteTime": {
     "end_time": "2024-11-04T15:08:19.134313Z",
     "start_time": "2024-11-04T15:08:19.111172Z"
    }
   },
   "outputs": [],
   "execution_count": 43
  },
  {
   "cell_type": "markdown",
   "source": [
    "# 2- Policy improvement"
   ],
   "metadata": {
    "id": "id0Re9bnkWRP"
   }
  },
  {
   "cell_type": "code",
   "source": [
    "def policy_improvement(n,pi,v,Gamma):\n",
    "  \"\"\"\n",
    "    This function should return the new policy by acting in a greedy manner.\n",
    "    The function should return as well a flag indicating if the output policy\n",
    "    is the same as the input policy.\n",
    "\n",
    "    Example:\n",
    "      return new_pi, True if new_pi = pi for all states\n",
    "      else return new_pi, False\n",
    "  \"\"\"\n",
    "  new_pi = np.zeros_like(pi)\n",
    "  policy_stable = True\n",
    "\n",
    "  for i in range(n):\n",
    "    for j in range(n):\n",
    "        old_action = pi[i, j]\n",
    "        action_values = []\n",
    "\n",
    "        for action in range(4):\n",
    "            next_state = (i + policy_one_step_look_ahead[action][0], j + policy_one_step_look_ahead[action][1])\n",
    "            if 0 <= next_state[0] < n and 0 <= next_state[1] < n:\n",
    "                action_value = -1 + Gamma * v[next_state[0], next_state[1]]\n",
    "            else:\n",
    "                action_value = -1\n",
    "            action_values.append(action_value)\n",
    "\n",
    "        new_action = np.argmax(action_values)\n",
    "        new_pi[i, j] = new_action\n",
    "\n",
    "        if new_action != old_action:\n",
    "            policy_stable = False\n",
    "\n",
    "  return new_pi, policy_stable"
   ],
   "metadata": {
    "id": "eC8zswV7kZPF",
    "ExecuteTime": {
     "end_time": "2024-11-04T15:08:19.159790Z",
     "start_time": "2024-11-04T15:08:19.145883Z"
    }
   },
   "outputs": [],
   "execution_count": 44
  },
  {
   "cell_type": "markdown",
   "source": [
    "# 3- Policy Initialization"
   ],
   "metadata": {
    "id": "1rJLFmZYk0I1"
   }
  },
  {
   "cell_type": "code",
   "source": [
    "def policy_initialization(n):\n",
    "  \"\"\"\n",
    "    This function should return the initial random policy for all states.\n",
    "  \"\"\"\n",
    "  # Define the possible actions (0: 'u', 1: 'r', 2: 'd', 3: 'l')\n",
    "  actions = [0, 1, 2, 3]\n",
    "    \n",
    "  # Initialize a random policy for each state\n",
    "  pi = np.random.choice(actions, size=(n, n))\n",
    "    \n",
    "  return pi"
   ],
   "metadata": {
    "id": "xpuOHJeIk2K_",
    "ExecuteTime": {
     "end_time": "2024-11-04T15:08:19.192343Z",
     "start_time": "2024-11-04T15:08:19.181923Z"
    }
   },
   "outputs": [],
   "execution_count": 45
  },
  {
   "cell_type": "markdown",
   "source": [
    "# 4- Policy Iteration algorithm"
   ],
   "metadata": {
    "id": "rfeVN5fQlBt8"
   }
  },
  {
   "cell_type": "code",
   "source": [
    "def policy_iteration(n,Gamma,threshhold):\n",
    "\n",
    "    pi = policy_initialization(n=n)\n",
    "\n",
    "    v = np.zeros(shape=(n,n))\n",
    "\n",
    "    while True:\n",
    "\n",
    "        v = policy_evaluation(n=n,v=v,pi=pi,threshhold=threshhold,Gamma=Gamma)\n",
    "\n",
    "        pi , pi_stable = policy_improvement(n=n,pi=pi,v=v,Gamma=Gamma)\n",
    "\n",
    "        if pi_stable:\n",
    "\n",
    "            break\n",
    "\n",
    "    return pi , v"
   ],
   "metadata": {
    "id": "g7hnjz0PlFD4",
    "ExecuteTime": {
     "end_time": "2024-11-04T15:08:19.223619Z",
     "start_time": "2024-11-04T15:08:19.211370Z"
    }
   },
   "outputs": [],
   "execution_count": 46
  },
  {
   "cell_type": "markdown",
   "source": [
    "# Main Code to Test"
   ],
   "metadata": {
    "id": "8FvleqV5onq9"
   }
  },
  {
   "cell_type": "code",
   "metadata": {
    "id": "hntGpzW-jZk3",
    "colab": {
     "base_uri": "https://localhost:8080/"
    },
    "outputId": "7cef0988-b63c-46cd-d047-0c1e33c72e39",
    "ExecuteTime": {
     "end_time": "2024-11-04T15:08:19.306522Z",
     "start_time": "2024-11-04T15:08:19.244440Z"
    }
   },
   "source": [
    "n = 4\n",
    "\n",
    "Gamma = [0.8,0.9,1]\n",
    "\n",
    "threshhold = 1e-4\n",
    "\n",
    "for _gamma in Gamma:\n",
    "    print(\"test 1\")\n",
    "    pi , v = policy_iteration(n=n,Gamma=_gamma,threshhold=threshhold)\n",
    "    print(\"test 2\")\n",
    "    pi_char = policy_int_to_char(n=n,pi=pi)\n",
    "    print(\"test 3\")\n",
    "    print()\n",
    "    print(\"Gamma = \",_gamma)\n",
    "\n",
    "    print()\n",
    "\n",
    "    print(pi_char)\n",
    "\n",
    "    print()\n",
    "    print()\n",
    "\n",
    "    print(v)\n"
   ],
   "outputs": [
    {
     "name": "stdout",
     "output_type": "stream",
     "text": [
      "test 1\n",
      "test 2\n",
      "test 3\n",
      "\n",
      "Gamma =  0.8\n",
      "\n",
      "[['' 'u' 'u' 'u']\n",
      " ['l' 'u' 'u' 'r']\n",
      " ['l' 'd' 'r' 'r']\n",
      " ['d' 'd' 'd' '']]\n",
      "\n",
      "\n",
      "[[-1.  -1.  -1.  -1. ]\n",
      " [-1.  -1.8 -1.8 -1. ]\n",
      " [-1.  -1.8 -1.8 -1. ]\n",
      " [-1.  -1.  -1.  -1. ]]\n",
      "test 1\n",
      "test 2\n",
      "test 3\n",
      "\n",
      "Gamma =  0.9\n",
      "\n",
      "[['' 'u' 'u' 'u']\n",
      " ['l' 'u' 'u' 'r']\n",
      " ['l' 'd' 'r' 'r']\n",
      " ['d' 'd' 'd' '']]\n",
      "\n",
      "\n",
      "[[-1.  -1.  -1.  -1. ]\n",
      " [-1.  -1.9 -1.9 -1. ]\n",
      " [-1.  -1.9 -1.9 -1. ]\n",
      " [-1.  -1.  -1.  -1. ]]\n",
      "test 1\n",
      "test 2\n",
      "test 3\n",
      "\n",
      "Gamma =  1\n",
      "\n",
      "[['' 'u' 'u' 'u']\n",
      " ['l' 'u' 'u' 'r']\n",
      " ['l' 'd' 'r' 'r']\n",
      " ['d' 'd' 'd' '']]\n",
      "\n",
      "\n",
      "[[-1. -1. -1. -1.]\n",
      " [-1. -2. -2. -1.]\n",
      " [-1. -2. -2. -1.]\n",
      " [-1. -1. -1. -1.]]\n"
     ]
    }
   ],
   "execution_count": 47
  }
 ]
}
